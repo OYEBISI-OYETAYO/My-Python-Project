{
 "cells": [
  {
   "cell_type": "markdown",
   "id": "2dbaba9b",
   "metadata": {},
   "source": [
    "## A) STRING REVERSE"
   ]
  },
  {
   "cell_type": "code",
   "execution_count": 1,
   "id": "076ff888",
   "metadata": {},
   "outputs": [
    {
     "name": "stdout",
     "output_type": "stream",
     "text": [
      "Reversed String: !dlroW ,olleH\n"
     ]
    }
   ],
   "source": [
    "\n",
    "def reverse_string(s):\n",
    "    return s[::-1]\n",
    "\n",
    "input_string = \"Hello, World!\"\n",
    "reversed_string = reverse_string(input_string)\n",
    "print(f\"Reversed String: {reversed_string}\")"
   ]
  },
  {
   "cell_type": "markdown",
   "id": "4448ff07",
   "metadata": {},
   "source": [
    " ## B) PRIME NUMBER CHECK"
   ]
  },
  {
   "cell_type": "code",
   "execution_count": 2,
   "id": "347b68af",
   "metadata": {},
   "outputs": [
    {
     "name": "stdout",
     "output_type": "stream",
     "text": [
      "Is 29 a prime number? Yes\n"
     ]
    }
   ],
   "source": [
    "#Prime Number Check\n",
    "\n",
    "\n",
    "def is_prime(n):\n",
    "    if n <= 1:\n",
    "        return False\n",
    "    for i in range(2, int(n**0.5) + 1):\n",
    "        if n % i == 0:\n",
    "            return False\n",
    "    return True\n",
    "\n",
    "# Example usage:\n",
    "number = 29\n",
    "print(f\"Is {number} a prime number? {'Yes' if is_prime(number) else 'No'}\")"
   ]
  },
  {
   "cell_type": "markdown",
   "id": "b65815e2",
   "metadata": {},
   "source": [
    "## c) Fibonacci Sequence"
   ]
  },
  {
   "cell_type": "code",
   "execution_count": 3,
   "id": "98211b71",
   "metadata": {},
   "outputs": [
    {
     "name": "stdout",
     "output_type": "stream",
     "text": [
      "First 10 numbers of the Fibonacci sequence: [0, 1, 1, 2, 3, 5, 8, 13, 21, 34]\n"
     ]
    }
   ],
   "source": [
    "def fibonacci_sequence(n):\n",
    "    fib_sequence = [0, 1]\n",
    "    while len(fib_sequence) < n:\n",
    "        fib_sequence.append(fib_sequence[-1] + fib_sequence[-2])\n",
    "    return fib_sequence[:n]\n",
    "\n",
    "# Example usage:\n",
    "n = 10\n",
    "print(f\"First {n} numbers of the Fibonacci sequence: {fibonacci_sequence(n)}\")"
   ]
  },
  {
   "cell_type": "markdown",
   "id": "aaa4c4f9",
   "metadata": {},
   "source": [
    "## D) List Comprehension"
   ]
  },
  {
   "cell_type": "code",
   "execution_count": 4,
   "id": "30e61af1",
   "metadata": {},
   "outputs": [
    {
     "name": "stdout",
     "output_type": "stream",
     "text": [
      "Squares of even numbers from 1 to 10: [4, 16, 36, 64, 100]\n"
     ]
    }
   ],
   "source": [
    "squares_of_even_numbers = [x**2 for x in range(1, 11) if x % 2 == 0]\n",
    "\n",
    "# Example usage:\n",
    "print(f\"Squares of even numbers from 1 to 10: {squares_of_even_numbers}\")"
   ]
  },
  {
   "cell_type": "markdown",
   "id": "71b5690f",
   "metadata": {},
   "source": [
    "## e) File Handling "
   ]
  },
  {
   "cell_type": "code",
   "execution_count": 5,
   "id": "80e22048",
   "metadata": {},
   "outputs": [
    {
     "ename": "FileNotFoundError",
     "evalue": "[Errno 2] No such file or directory: 'example.txt'",
     "output_type": "error",
     "traceback": [
      "\u001b[1;31m---------------------------------------------------------------------------\u001b[0m",
      "\u001b[1;31mFileNotFoundError\u001b[0m                         Traceback (most recent call last)",
      "\u001b[1;32m~\\AppData\\Local\\Temp\\ipykernel_2796\\1068698984.py\u001b[0m in \u001b[0;36m<module>\u001b[1;34m\u001b[0m\n\u001b[0;32m     15\u001b[0m \u001b[1;31m# Example usage:\u001b[0m\u001b[1;33m\u001b[0m\u001b[1;33m\u001b[0m\u001b[0m\n\u001b[0;32m     16\u001b[0m \u001b[0mfilename\u001b[0m \u001b[1;33m=\u001b[0m \u001b[1;34m'example.txt'\u001b[0m\u001b[1;33m\u001b[0m\u001b[1;33m\u001b[0m\u001b[0m\n\u001b[1;32m---> 17\u001b[1;33m \u001b[0mword_occurrences\u001b[0m \u001b[1;33m=\u001b[0m \u001b[0mcount_word_occurrences\u001b[0m\u001b[1;33m(\u001b[0m\u001b[0mfilename\u001b[0m\u001b[1;33m)\u001b[0m\u001b[1;33m\u001b[0m\u001b[1;33m\u001b[0m\u001b[0m\n\u001b[0m\u001b[0;32m     18\u001b[0m \u001b[0mprint\u001b[0m\u001b[1;33m(\u001b[0m\u001b[1;34mf\"Word occurrences in '{filename}':\\n{word_occurrences}\"\u001b[0m\u001b[1;33m)\u001b[0m\u001b[1;33m\u001b[0m\u001b[1;33m\u001b[0m\u001b[0m\n",
      "\u001b[1;32m~\\AppData\\Local\\Temp\\ipykernel_2796\\1068698984.py\u001b[0m in \u001b[0;36mcount_word_occurrences\u001b[1;34m(filename)\u001b[0m\n\u001b[0;32m      2\u001b[0m \u001b[1;33m\u001b[0m\u001b[0m\n\u001b[0;32m      3\u001b[0m \u001b[1;32mdef\u001b[0m \u001b[0mcount_word_occurrences\u001b[0m\u001b[1;33m(\u001b[0m\u001b[0mfilename\u001b[0m\u001b[1;33m)\u001b[0m\u001b[1;33m:\u001b[0m\u001b[1;33m\u001b[0m\u001b[1;33m\u001b[0m\u001b[0m\n\u001b[1;32m----> 4\u001b[1;33m     \u001b[1;32mwith\u001b[0m \u001b[0mopen\u001b[0m\u001b[1;33m(\u001b[0m\u001b[0mfilename\u001b[0m\u001b[1;33m,\u001b[0m \u001b[1;34m'r'\u001b[0m\u001b[1;33m)\u001b[0m \u001b[1;32mas\u001b[0m \u001b[0mfile\u001b[0m\u001b[1;33m:\u001b[0m\u001b[1;33m\u001b[0m\u001b[1;33m\u001b[0m\u001b[0m\n\u001b[0m\u001b[0;32m      5\u001b[0m         \u001b[0mtext\u001b[0m \u001b[1;33m=\u001b[0m \u001b[0mfile\u001b[0m\u001b[1;33m.\u001b[0m\u001b[0mread\u001b[0m\u001b[1;33m(\u001b[0m\u001b[1;33m)\u001b[0m\u001b[1;33m.\u001b[0m\u001b[0mlower\u001b[0m\u001b[1;33m(\u001b[0m\u001b[1;33m)\u001b[0m\u001b[1;33m\u001b[0m\u001b[1;33m\u001b[0m\u001b[0m\n\u001b[0;32m      6\u001b[0m         \u001b[0mtext\u001b[0m \u001b[1;33m=\u001b[0m \u001b[0mtext\u001b[0m\u001b[1;33m.\u001b[0m\u001b[0mtranslate\u001b[0m\u001b[1;33m(\u001b[0m\u001b[0mstr\u001b[0m\u001b[1;33m.\u001b[0m\u001b[0mmaketrans\u001b[0m\u001b[1;33m(\u001b[0m\u001b[1;34m''\u001b[0m\u001b[1;33m,\u001b[0m \u001b[1;34m''\u001b[0m\u001b[1;33m,\u001b[0m \u001b[0mstring\u001b[0m\u001b[1;33m.\u001b[0m\u001b[0mpunctuation\u001b[0m\u001b[1;33m)\u001b[0m\u001b[1;33m)\u001b[0m\u001b[1;33m\u001b[0m\u001b[1;33m\u001b[0m\u001b[0m\n",
      "\u001b[1;31mFileNotFoundError\u001b[0m: [Errno 2] No such file or directory: 'example.txt'"
     ]
    }
   ],
   "source": [
    "import string\n",
    "\n",
    "def count_word_occurrences(download.doc):\n",
    "    with open(download.doc, 'r') as file:\n",
    "        text = file.read().lower()\n",
    "        text = text.translate(str.maketrans('', '', string.punctuation))\n",
    "        words = text.split()\n",
    "        \n",
    "    word_count = {}\n",
    "    for word in words:\n",
    "        word_count[word] = word_count.get(word, 0) + 1\n",
    "    \n",
    "    return word_count\n",
    "\n",
    "# Example usage:\n",
    "filename = 'example.txt'\n",
    "word_occurrences = count_word_occurrences(download.doc)\n",
    "print(f\"Word occurrences in '{filename}':\\n{word_occurrences}\")"
   ]
  },
  {
   "cell_type": "code",
   "execution_count": null,
   "id": "5afaebc2",
   "metadata": {},
   "outputs": [],
   "source": []
  }
 ],
 "metadata": {
  "kernelspec": {
   "display_name": "Python 3 (ipykernel)",
   "language": "python",
   "name": "python3"
  },
  "language_info": {
   "codemirror_mode": {
    "name": "ipython",
    "version": 3
   },
   "file_extension": ".py",
   "mimetype": "text/x-python",
   "name": "python",
   "nbconvert_exporter": "python",
   "pygments_lexer": "ipython3",
   "version": "3.9.13"
  }
 },
 "nbformat": 4,
 "nbformat_minor": 5
}
