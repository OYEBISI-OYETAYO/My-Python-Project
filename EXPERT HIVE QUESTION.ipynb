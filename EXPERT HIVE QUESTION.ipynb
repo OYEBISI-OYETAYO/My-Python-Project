{
 "cells": [
  {
   "cell_type": "code",
   "execution_count": 1,
   "id": "4f12801b",
   "metadata": {},
   "outputs": [],
   "source": [
    "import pandas as pd\n",
    "from sklearn.linear_model import LinearRegression\n",
    "from sklearn.model_selection import train_test_split\n",
    "from sklearn.metrics import mean_squared_error, r2_score"
   ]
  },
  {
   "cell_type": "code",
   "execution_count": 2,
   "id": "2cd11e73",
   "metadata": {},
   "outputs": [],
   "source": [
    "# Sample data: Years of Experience vs Salary\n",
    "data = {\n",
    "    'YearsExperience': [1, 2, 3, 4, 5, 6, 7, 8, 9, 10],\n",
    "    'Salary': [40000, 42000, 50000, 52000, 60000, 62000, 70000, 72000, 80000, 82000]\n",
    "}\n"
   ]
  },
  {
   "cell_type": "code",
   "execution_count": 3,
   "id": "4fc492de",
   "metadata": {},
   "outputs": [
    {
     "data": {
      "text/html": [
       "<div>\n",
       "<style scoped>\n",
       "    .dataframe tbody tr th:only-of-type {\n",
       "        vertical-align: middle;\n",
       "    }\n",
       "\n",
       "    .dataframe tbody tr th {\n",
       "        vertical-align: top;\n",
       "    }\n",
       "\n",
       "    .dataframe thead th {\n",
       "        text-align: right;\n",
       "    }\n",
       "</style>\n",
       "<table border=\"1\" class=\"dataframe\">\n",
       "  <thead>\n",
       "    <tr style=\"text-align: right;\">\n",
       "      <th></th>\n",
       "      <th>YearsExperience</th>\n",
       "      <th>Salary</th>\n",
       "    </tr>\n",
       "  </thead>\n",
       "  <tbody>\n",
       "    <tr>\n",
       "      <th>0</th>\n",
       "      <td>1</td>\n",
       "      <td>40000</td>\n",
       "    </tr>\n",
       "    <tr>\n",
       "      <th>1</th>\n",
       "      <td>2</td>\n",
       "      <td>42000</td>\n",
       "    </tr>\n",
       "    <tr>\n",
       "      <th>2</th>\n",
       "      <td>3</td>\n",
       "      <td>50000</td>\n",
       "    </tr>\n",
       "    <tr>\n",
       "      <th>3</th>\n",
       "      <td>4</td>\n",
       "      <td>52000</td>\n",
       "    </tr>\n",
       "    <tr>\n",
       "      <th>4</th>\n",
       "      <td>5</td>\n",
       "      <td>60000</td>\n",
       "    </tr>\n",
       "    <tr>\n",
       "      <th>5</th>\n",
       "      <td>6</td>\n",
       "      <td>62000</td>\n",
       "    </tr>\n",
       "    <tr>\n",
       "      <th>6</th>\n",
       "      <td>7</td>\n",
       "      <td>70000</td>\n",
       "    </tr>\n",
       "    <tr>\n",
       "      <th>7</th>\n",
       "      <td>8</td>\n",
       "      <td>72000</td>\n",
       "    </tr>\n",
       "    <tr>\n",
       "      <th>8</th>\n",
       "      <td>9</td>\n",
       "      <td>80000</td>\n",
       "    </tr>\n",
       "    <tr>\n",
       "      <th>9</th>\n",
       "      <td>10</td>\n",
       "      <td>82000</td>\n",
       "    </tr>\n",
       "  </tbody>\n",
       "</table>\n",
       "</div>"
      ],
      "text/plain": [
       "   YearsExperience  Salary\n",
       "0                1   40000\n",
       "1                2   42000\n",
       "2                3   50000\n",
       "3                4   52000\n",
       "4                5   60000\n",
       "5                6   62000\n",
       "6                7   70000\n",
       "7                8   72000\n",
       "8                9   80000\n",
       "9               10   82000"
      ]
     },
     "execution_count": 3,
     "metadata": {},
     "output_type": "execute_result"
    }
   ],
   "source": [
    "# Create a DataFrame\n",
    "df = pd.DataFrame(data)\n",
    "df"
   ]
  },
  {
   "cell_type": "code",
   "execution_count": 4,
   "id": "1ebb01e2",
   "metadata": {},
   "outputs": [],
   "source": [
    "# Independent variable (X) and dependent variable (y)\n",
    "X = df[['YearsExperience']]\n",
    "y = df['Salary']\n"
   ]
  },
  {
   "cell_type": "code",
   "execution_count": 5,
   "id": "65d868be",
   "metadata": {},
   "outputs": [],
   "source": [
    "# Split the data into training and testing sets\n",
    "X_train, X_test, y_train, y_test = train_test_split(X, y, test_size=0.2, random_state=42)\n"
   ]
  },
  {
   "cell_type": "code",
   "execution_count": 6,
   "id": "daedddb4",
   "metadata": {},
   "outputs": [],
   "source": [
    "# Create a linear regression model\n",
    "model = LinearRegression()\n"
   ]
  },
  {
   "cell_type": "code",
   "execution_count": 7,
   "id": "4cab429a",
   "metadata": {},
   "outputs": [
    {
     "data": {
      "text/plain": [
       "LinearRegression()"
      ]
     },
     "execution_count": 7,
     "metadata": {},
     "output_type": "execute_result"
    }
   ],
   "source": [
    "# Train the model\n",
    "model.fit(X_train, y_train)"
   ]
  },
  {
   "cell_type": "code",
   "execution_count": 8,
   "id": "5893eac8",
   "metadata": {},
   "outputs": [
    {
     "data": {
      "text/plain": [
       "array([77413.79310345, 44586.20689655])"
      ]
     },
     "execution_count": 8,
     "metadata": {},
     "output_type": "execute_result"
    }
   ],
   "source": [
    "# Make predictions on the test set\n",
    "y_pred = model.predict(X_test)\n",
    "y_pred"
   ]
  },
  {
   "cell_type": "code",
   "execution_count": 9,
   "id": "6d0abf43",
   "metadata": {},
   "outputs": [],
   "source": [
    "# Model evaluation\n",
    "mse = mean_squared_error(y_test, y_pred)\n",
    "r2 = r2_score(y_test, y_pred)"
   ]
  },
  {
   "cell_type": "code",
   "execution_count": 10,
   "id": "e9e9cd70",
   "metadata": {},
   "outputs": [
    {
     "name": "stdout",
     "output_type": "stream",
     "text": [
      "Mean Squared Error: 6688466.111771647\n",
      "R-squared: 0.9814723930421838\n"
     ]
    }
   ],
   "source": [
    "print(\"Mean Squared Error:\", mse)\n",
    "print(\"R-squared:\", r2)\n"
   ]
  },
  {
   "cell_type": "code",
   "execution_count": 11,
   "id": "c91935e2",
   "metadata": {},
   "outputs": [
    {
     "name": "stdout",
     "output_type": "stream",
     "text": [
      "Intercept: 35206.89655172413\n",
      "Coefficient: 4689.655172413794\n"
     ]
    }
   ],
   "source": [
    "# Display the coefficients\n",
    "print(\"Intercept:\", model.intercept_)\n",
    "print(\"Coefficient:\", model.coef_[0])\n"
   ]
  },
  {
   "cell_type": "code",
   "execution_count": 12,
   "id": "cfbf227d",
   "metadata": {},
   "outputs": [
    {
     "name": "stdout",
     "output_type": "stream",
     "text": [
      "Predicted Salary for 5 years of experience: $58,655.17\n"
     ]
    },
    {
     "name": "stderr",
     "output_type": "stream",
     "text": [
      "C:\\Users\\User\\anaconda3\\lib\\site-packages\\sklearn\\base.py:450: UserWarning: X does not have valid feature names, but LinearRegression was fitted with feature names\n",
      "  warnings.warn(\n"
     ]
    }
   ],
   "source": [
    "# Prediction for a new value\n",
    "years_experience = 5\n",
    "predicted_salary = model.predict([[years_experience]])\n",
    "print(f\"Predicted Salary for {years_experience} years of experience: ${predicted_salary[0]:,.2f}\")\n"
   ]
  },
  {
   "cell_type": "code",
   "execution_count": null,
   "id": "fb0392bd",
   "metadata": {},
   "outputs": [],
   "source": [
    "def smallest_prime_value(n: int) -> int:\n",
    "    def is_prime(x):\n",
    "        if x < 2:\n",
    "            return False\n",
    "        for i in range(2, int(x**0.5) + 1):\n",
    "            if x % i == 0:\n",
    "                return False\n",
    "        return True\n",
    "\n",
    "    def prime_factors(x):\n",
    "        factors = []\n",
    "        temp_x = x  # introduce a temporary variable\n",
    "        for i in range(2, temp_x + 1):\n",
    "            if is_prime(i) and x % i == 0:\n",
    "                factors.append(i)\n",
    "                while x % i == 0:\n",
    "                    x //= i\n",
    "        return factors\n",
    "\n",
    "    while n > 1:\n",
    "        factors = prime_factors(n)\n",
    "        n = sum(factors)\n",
    "    return n\n",
    "\n",
    "if __name__ == '__main__':\n",
    "    n = int(input(\"Enter a number: \"))\n",
    "    print(\"Smallest prime value:\", smallest_prime_value(n))"
   ]
  },
  {
   "cell_type": "code",
   "execution_count": null,
   "id": "579e2dbb",
   "metadata": {},
   "outputs": [],
   "source": [
    "import math\n",
    "n = 100\n",
    "\n",
    "def prime_factors(n):\n",
    "    factors = []\n",
    "    # Divide by 2 until n becomes odd\n",
    "    while n % 2 == 0:\n",
    "        factors.append(2)\n",
    "        n = n // 2\n",
    "    \n",
    "    # n must be odd at this point, so we can skip even numbers\n",
    "    for i in range(3, int(math.sqrt(n)) + 1, 2):\n",
    "        while n % i == 0:\n",
    "            factors.append(i)\n",
    "            n = n // i\n",
    "    \n",
    "    # This condition is for the case when n is a prime number\n",
    "    if n > 2:\n",
    "        factors.append(n)\n",
    "    \n",
    "    return factors\n",
    "\n",
    "def smallest_number(n):\n",
    "    while n > 9:\n",
    "        factors = prime_factors(n)\n",
    "        n = sum(factors)\n",
    "    return n\n",
    "\n",
    "# Example usage:\n",
    "n = 100\n",
    "result = smallest_number(n)\n",
    "print(f\"The smallest number that {n} can become is {result}\")"
   ]
  },
  {
   "cell_type": "code",
   "execution_count": null,
   "id": "95841448",
   "metadata": {},
   "outputs": [],
   "source": [
    "result\n"
   ]
  },
  {
   "cell_type": "code",
   "execution_count": null,
   "id": "2c2a1c99",
   "metadata": {},
   "outputs": [],
   "source": [
    "import math\n",
    "\n",
    "def prime_factors(n):\n",
    "    factors = []\n",
    "    # Divide by 2 until n becomes odd\n",
    "    while n % 2 == 0:\n",
    "        factors.append(2)\n",
    "        n = n // 2\n",
    "    \n",
    "    # n must be odd at this point, so we can skip even numbers\n",
    "    for i in range(3, int(math.sqrt(n)) + 1, 2):\n",
    "        while n % i == 0:\n",
    "            factors.append(i)\n",
    "            n = n // i\n",
    "    \n",
    "    # This condition is for the case when n is a prime number\n",
    "    if n > 2:\n",
    "        factors.append(n)\n",
    "    \n",
    "    return factors\n",
    "\n",
    "def smallest_number(n):\n",
    "    print(f\"Starting with n = {n}\")\n",
    "    while n > 9:\n",
    "        factors = prime_factors(n)\n",
    "        print(f\"Prime factors of {n}: {factors}\")\n",
    "        n = sum(factors)\n",
    "        print(f\"Sum of prime factors: {n}\")\n",
    "    \n",
    "    print(f\"The smallest number that n can become is {n}\")\n",
    "    return n\n",
    "\n",
    "# Example usage:\n",
    "n = 100\n",
    "result = smallest_number(n)\n"
   ]
  },
  {
   "cell_type": "markdown",
   "id": "6f63d508",
   "metadata": {},
   "source": [
    "## Ridge Regression"
   ]
  },
  {
   "cell_type": "code",
   "execution_count": null,
   "id": "12e7bf2c",
   "metadata": {},
   "outputs": [],
   "source": [
    "from sklearn.linear_model import Ridge\n",
    "ridge = Ridge().fit(X_train, y_train)\n",
    "print(\"Training set score: {:.2f}\".format(ridge.score(X_train, y_train)))\n",
    "print(\"Test set score: {:.2f}\".format(ridge.score(X_test, y_test)))\n"
   ]
  },
  {
   "cell_type": "code",
   "execution_count": null,
   "id": "2c0a7ea5",
   "metadata": {},
   "outputs": [],
   "source": []
  }
 ],
 "metadata": {
  "kernelspec": {
   "display_name": "Python 3 (ipykernel)",
   "language": "python",
   "name": "python3"
  },
  "language_info": {
   "codemirror_mode": {
    "name": "ipython",
    "version": 3
   },
   "file_extension": ".py",
   "mimetype": "text/x-python",
   "name": "python",
   "nbconvert_exporter": "python",
   "pygments_lexer": "ipython3",
   "version": "3.9.13"
  }
 },
 "nbformat": 4,
 "nbformat_minor": 5
}
